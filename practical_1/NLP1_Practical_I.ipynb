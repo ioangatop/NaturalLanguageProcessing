{
 "cells": [
  {
   "cell_type": "markdown",
   "metadata": {
    "colab_type": "text",
    "id": "lIZrAUx57vsM"
   },
   "source": [
    "Practical 1: Sentiment Detection of Movie Reviews\n",
    "========================================\n",
    "\n"
   ]
  },
  {
   "cell_type": "markdown",
   "metadata": {
    "colab_type": "text",
    "id": "J4kXPMhyngZW"
   },
   "source": [
    "This practical concerns sentiment detection of movie reviews.\n",
    "In [this file](https://gist.githubusercontent.com/bastings/d47423301cca214e3930061a5a75e177/raw/5113687382919e22b1f09ce71a8fecd1687a5760/reviews.json) (80MB) you will find 1000 positive and 1000 negative **movie reviews**.\n",
    "Each review is a **document** and consists of one or more sentences.\n",
    "\n",
    "To prepare yourself for this practical, you should\n",
    "have a look at a few of these texts to understand the difficulties of\n",
    "the task (how might one go about classifying the texts?); you will write\n",
    "code that decides whether a random unseen movie review is positive or\n",
    "negative.\n",
    "\n",
    "Please make sure you have read the following paper:\n",
    "\n",
    ">   Bo Pang, Lillian Lee, and Shivakumar Vaithyanathan\n",
    "(2002). \n",
    "[Thumbs up? Sentiment Classification using Machine Learning\n",
    "Techniques](https://dl.acm.org/citation.cfm?id=1118704). EMNLP.\n",
    "\n",
    "Bo Pang et al. were the \"inventors\" of the movie review sentiment\n",
    "classification task, and the above paper was one of the first papers on\n",
    "the topic. The first version of your sentiment classifier will do\n",
    "something similar to Bo Pang’s system. If you have questions about it,\n",
    "we should resolve them in our first demonstrated practical.\n"
   ]
  },
  {
   "cell_type": "markdown",
   "metadata": {
    "colab_type": "text",
    "id": "cb7errgRASzZ"
   },
   "source": [
    "**Advice**\n",
    "\n",
    "Please read through the entire practical and familiarise\n",
    "yourself with all requirements before you start coding or otherwise\n",
    "solving the tasks. Writing clean and concise code can make the difference\n",
    "between solving the assignment in a matter of hours, and taking days to\n",
    "run all experiments.\n",
    "\n",
    "**Environment**\n",
    "\n",
    "All code should be written in **Python 3**. \n",
    "If you use Colab, check if you have that version with `Runtime -> Change runtime type` in the top menu.\n",
    "\n",
    "> If you want to work in your own computer, then download this notebook through `File -> Download .ipynb`.\n",
    "The easiest way to\n",
    "install Python is through downloading\n",
    "[Anaconda](https://www.anaconda.com/download). \n",
    "After installation, you can start the notebook by typing `jupyter notebook filename.ipynb`.\n",
    "You can also use an IDE\n",
    "such as [PyCharm](https://www.jetbrains.com/pycharm/download/) to make\n",
    "coding and debugging easier. It is good practice to create a [virtual\n",
    "environment](https://docs.python.org/3/tutorial/venv.html) for this\n",
    "project, so that any Python packages don’t interfere with other\n",
    "projects.\n",
    "\n",
    "#### Learning Python 3\n",
    "\n",
    "If you are new to Python 3, you may want to check out a few of these resources:\n",
    "- https://learnxinyminutes.com/docs/python3/\n",
    "- https://www.learnpython.org/\n",
    "- https://docs.python.org/3/tutorial/"
   ]
  },
  {
   "cell_type": "markdown",
   "metadata": {
    "colab_type": "text",
    "id": "bXWyGHwE-ieQ"
   },
   "source": [
    "Loading the Data\n",
    "-------------------------------------------------------------"
   ]
  },
  {
   "cell_type": "code",
   "execution_count": 0,
   "metadata": {
    "colab": {
     "base_uri": "https://localhost:8080/",
     "height": 419
    },
    "colab_type": "code",
    "id": "lm-rakqtlMOT",
    "outputId": "47e8a48f-d491-486d-e3d6-971ee75a134c"
   },
   "outputs": [
    {
     "name": "stdout",
     "output_type": "stream",
     "text": [
      "--2018-11-23 13:33:49--  https://gist.githubusercontent.com/bastings/d6f99dcb6c82231b94b013031356ba05/raw/f80a0281eba8621b122012c89c8b5e2200b39fd6/sent_lexicon\n",
      "Resolving gist.githubusercontent.com (gist.githubusercontent.com)... 151.101.0.133, 151.101.64.133, 151.101.128.133, ...\n",
      "Connecting to gist.githubusercontent.com (gist.githubusercontent.com)|151.101.0.133|:443... connected.\n",
      "HTTP request sent, awaiting response... 200 OK\n",
      "Length: 662577 (647K) [text/plain]\n",
      "Saving to: ‘sent_lexicon’\n",
      "\n",
      "sent_lexicon        100%[===================>] 647.05K  --.-KB/s    in 0.1s    \n",
      "\n",
      "2018-11-23 13:33:54 (6.30 MB/s) - ‘sent_lexicon’ saved [662577/662577]\n",
      "\n",
      "--2018-11-23 13:33:55--  https://gist.githubusercontent.com/bastings/d47423301cca214e3930061a5a75e177/raw/5113687382919e22b1f09ce71a8fecd1687a5760/reviews.json\n",
      "Resolving gist.githubusercontent.com (gist.githubusercontent.com)... 151.101.0.133, 151.101.64.133, 151.101.128.133, ...\n",
      "Connecting to gist.githubusercontent.com (gist.githubusercontent.com)|151.101.0.133|:443... connected.\n",
      "HTTP request sent, awaiting response... 200 OK\n",
      "Length: 83503869 (80M) [text/plain]\n",
      "Saving to: ‘reviews.json’\n",
      "\n",
      "reviews.json        100%[===================>]  79.63M  37.5MB/s    in 2.1s    \n",
      "\n",
      "2018-11-23 13:33:58 (37.5 MB/s) - ‘reviews.json’ saved [83503869/83503869]\n",
      "\n"
     ]
    }
   ],
   "source": [
    "# download sentiment lexicon\n",
    "!wget https://gist.githubusercontent.com/bastings/d6f99dcb6c82231b94b013031356ba05/raw/f80a0281eba8621b122012c89c8b5e2200b39fd6/sent_lexicon\n",
    "# download review data\n",
    "!wget https://gist.githubusercontent.com/bastings/d47423301cca214e3930061a5a75e177/raw/5113687382919e22b1f09ce71a8fecd1687a5760/reviews.json"
   ]
  },
  {
   "cell_type": "code",
   "execution_count": 0,
   "metadata": {
    "colab": {},
    "colab_type": "code",
    "id": "hok-BFu9lGoK"
   },
   "outputs": [],
   "source": [
    "import math\n",
    "import os\n",
    "import sys\n",
    "from subprocess import call\n",
    "from nltk import FreqDist\n",
    "from nltk.util import ngrams\n",
    "from nltk.stem.porter import PorterStemmer\n",
    "import sklearn as sk\n",
    "from google.colab import drive\n",
    "import pickle\n",
    "import json\n",
    "from collections import Counter\n",
    "import requests\n",
    "import matplotlib.pyplot as plt\n",
    "import numpy as np"
   ]
  },
  {
   "cell_type": "code",
   "execution_count": 0,
   "metadata": {
    "colab": {
     "base_uri": "https://localhost:8080/",
     "height": 696
    },
    "colab_type": "code",
    "id": "careEKj-mRpl",
    "outputId": "0ce562f0-db50-455e-de5c-87a1700ab62d"
   },
   "outputs": [
    {
     "name": "stdout",
     "output_type": "stream",
     "text": [
      "2000\n",
      "0 NEG 29\n",
      "Two/CD teen/JJ couples/NNS go/VBP to/TO a/DT church/NN party/NN ,/, drink/NN and/CC then/RB drive/NN ./.\n",
      "1 NEG 11\n",
      "Damn/JJ that/IN Y2K/CD bug/NN ./.\n",
      "2 NEG 24\n",
      "It/PRP is/VBZ movies/NNS like/IN these/DT that/WDT make/VBP a/DT jaded/JJ movie/NN viewer/NN thankful/JJ for/IN the/DT invention/NN of/IN the/DT Timex/NNP IndiGlo/NNP watch/NN ./.\n",
      "3 NEG 19\n",
      "QUEST/NN FOR/IN CAMELOT/NNP ``/`` Quest/NNP for/IN Camelot/NNP ''/'' is/VBZ Warner/NNP Bros./NNP '/POS first/JJ feature-length/JJ ,/, fully-animated/JJ attempt/NN to/TO steal/VB clout/NN from/IN Disney/NNP 's/POS cartoon/NN empire/NN ,/, but/CC the/DT mouse/NN has/VBZ no/DT reason/NN to/TO be/VB worried/VBN ./.\n",
      "4 NEG 38\n",
      "Synopsis/NNPS :/: A/DT mentally/RB unstable/JJ man/NN undergoing/VBG psychotherapy/NN saves/VBZ a/DT boy/NN from/IN a/DT potentially/RB fatal/JJ accident/NN and/CC then/RB falls/VBZ in/IN love/NN with/IN the/DT boy/NN 's/POS mother/NN ,/, a/DT fledgling/NN restauranteur/NN ./.\n",
      "#types 47743\n",
      "Most common tokens:\n",
      "         , :    77842\n",
      "       the :    75948\n",
      "         . :    59027\n",
      "         a :    37583\n",
      "       and :    35235\n",
      "        of :    33864\n",
      "        to :    31601\n",
      "        is :    25972\n",
      "        in :    21563\n",
      "        's :    18043\n",
      "        it :    15904\n",
      "      that :    15820\n",
      "     -rrb- :    11768\n",
      "     -lrb- :    11670\n",
      "        as :    11312\n",
      "      with :    10739\n",
      "       for :     9816\n",
      "       his :     9542\n",
      "      this :     9497\n",
      "      film :     9404\n",
      "        '' :     9282\n",
      "        he :     8804\n",
      "        `` :     8801\n",
      "         i :     8619\n",
      "       but :     8537\n"
     ]
    }
   ],
   "source": [
    "# load reviews into memory\n",
    "# file structure:\n",
    "# [\n",
    "#  {\"cv\": integer, \"sentiment\": str, \"content\": list} \n",
    "#  {\"cv\": integer, \"sentiment\": str, \"content\": list} \n",
    "#   ..\n",
    "# ]\n",
    "# where `content` is a list of sentences, \n",
    "# with a sentence being a list of (token, pos_tag) pairs.\n",
    "\n",
    "# For documentation on POS-tags, see \n",
    "# https://catalog.ldc.upenn.edu/docs/LDC99T42/tagguid1.pdf\n",
    "\n",
    "with open(\"reviews.json\", mode=\"r\", encoding=\"utf-8\") as f:\n",
    "  reviews = json.load(f)\n",
    "  \n",
    "print(len(reviews))\n",
    "\n",
    "def print_sentence_with_pos(s):\n",
    "  print(\" \".join(\"%s/%s\" % (token, pos_tag) for token, pos_tag in s))\n",
    "\n",
    "for i, r in enumerate(reviews):\n",
    "  print(r[\"cv\"], r[\"sentiment\"], len(r[\"content\"]))  # cv, sentiment, num sents\n",
    "  print_sentence_with_pos(r[\"content\"][0])\n",
    "  if i == 4: \n",
    "    break\n",
    "    \n",
    "c = Counter()\n",
    "for review in reviews:\n",
    "  for sentence in review[\"content\"]:\n",
    "    for token, pos_tag in sentence:\n",
    "      c[token.lower()] += 1\n",
    "      \n",
    "print(\"#types\", len(c))\n",
    "\n",
    "print(\"Most common tokens:\")\n",
    "for token, count in c.most_common(25):\n",
    "  print(\"%10s : %8d\" % (token, count))\n",
    "  "
   ]
  },
  {
   "cell_type": "markdown",
   "metadata": {
    "colab_type": "text",
    "id": "E6PWaEoh8B34"
   },
   "source": [
    "Symbolic approach – sentiment lexicon (2pts)\n",
    "---------------------------------------------------------------------\n",
    "\n"
   ]
  },
  {
   "cell_type": "markdown",
   "metadata": {
    "colab_type": "text",
    "id": "JsTSMb6ma4E8"
   },
   "source": [
    "**How** could one automatically classify movie reviews according to their\n",
    "sentiment? \n",
    "\n",
    "If we had access to a **sentiment lexicon**, then there are ways to solve\n",
    "the problem without using Machine Learning. One might simply look up\n",
    "every open-class word in the lexicon, and compute a binary score\n",
    "$S_{binary}$ by counting how many words match either a positive, or a\n",
    "negative word entry in the sentiment lexicon $SLex$.\n",
    "\n",
    "$$S_{binary}(w_1w_2...w_n) = \\sum_{i = 1}^{n}\\text{sgn}(SLex\\big[w_i\\big])$$\n",
    "\n",
    "**Threshold.** In average there are more positive than negative words per review (~7.13 more positive than negative per review) to take this bias into account you should use a threshold of **8** (roughly the bias itself) to make it harder to classify as positive.\n",
    "\n",
    "$$\n",
    "\\text{classify}(S_{binary}(w_1w_2...w_n)) = \\bigg\\{\\begin{array}{ll}\n",
    "        \\text{positive} & \\text{if } S_{binary}(w_1w_2...w_n) > threshold\\\\\n",
    "        \\text{negative} & \\text{else }\n",
    "        \\end{array}\n",
    "$$\n",
    "\n",
    "To implement this approach, you should use the sentiment\n",
    "lexicon in `sent_lexicon`, which was taken from the\n",
    "following work:\n",
    "\n",
    "> Theresa Wilson, Janyce Wiebe, and Paul Hoffmann\n",
    "(2005). [Recognizing Contextual Polarity in Phrase-Level Sentiment\n",
    "Analysis](http://www.aclweb.org/anthology/H/H05/H05-1044.pdf). HLT-EMNLP."
   ]
  },
  {
   "cell_type": "markdown",
   "metadata": {
    "colab_type": "text",
    "id": "tOFnMvbeeZrc"
   },
   "source": [
    "#### (Q: 1.1) Implement this approach and report its classification accuracy. (1 pt)"
   ]
  },
  {
   "cell_type": "code",
   "execution_count": 0,
   "metadata": {
    "colab": {},
    "colab_type": "code",
    "id": "ED2aTEYutW1-"
   },
   "outputs": [],
   "source": [
    "# Turn lexicon into dictionary\n",
    "\n",
    "lexicon_temp = open('sent_lexicon').read()\n",
    "lexicon_temp = lexicon_temp.split()\n",
    "for i in range(len(lexicon_temp)):\n",
    "  lexicon_temp[i]=lexicon_temp[i].split('=')  \n",
    "lexicon_len = len(lexicon_temp)//6 #Length of each line\n",
    "lexicon = dict()\n",
    "for i in range(lexicon_len):\n",
    "  lexicon[i] = {}\n",
    "\n",
    "k = 0\n",
    "for i in range(0, len(lexicon_temp), 6):\n",
    "  lexicon[k] = dict(zip(['type', 'len', 'word1', 'pos1', 'stemmed1', 'priorpolarity'], [lexicon_temp[i][1], lexicon_temp[i+1][1], lexicon_temp[i+2][1], lexicon_temp[i+3][1], lexicon_temp[i+4][1], lexicon_temp[i+5][1]]))\n",
    "  k += 1\n",
    "\n",
    "dict2 = {}\n",
    "\n",
    "for i in lexicon:\n",
    "  dict2[lexicon[i]['word1']] = lexicon[i]['priorpolarity']\n",
    "\n",
    "dict3 = {}\n",
    "for i in lexicon:\n",
    "  dict3[lexicon[i]['word1']] = lexicon[i]['type']\n",
    "  \n",
    "k = 0\n",
    "accuracy = 0\n",
    "neg_tonkens = 0\n",
    "pos_tonkens = 0\n",
    "token_results = []\n",
    "review_classify = [None] * 2000\n",
    "for review in reviews:\n",
    "  balance = 0\n",
    "  for sentence in review[\"content\"]:\n",
    "    for token, pos_tag in sentence:\n",
    "      try:\n",
    "        if (dict2[token.lower()] == \"negative\"):\n",
    "          balance-=1\n",
    "        elif (dict2[token.lower()] == \"positive\"):\n",
    "          balance+=1\n",
    "        else:\n",
    "          pass\n",
    "      except KeyError:\n",
    "        pass\n",
    "  # predict review\n",
    "  if balance>8:\n",
    "    review_classify[k] = ['POS', balance]\n",
    "  else:\n",
    "    review_classify[k] = ['NEG', balance]\n",
    "  # check if our prediction is correct \n",
    "  if review['sentiment'] == review_classify[k][0]:\n",
    "      accuracy += 1\n",
    "      token_results.append('+')\n",
    "  else:\n",
    "    token_results.append('-')\n",
    "  k+=1\n",
    "\n",
    "token_accuracy = accuracy /2000 \n"
   ]
  },
  {
   "cell_type": "code",
   "execution_count": 0,
   "metadata": {
    "colab": {
     "base_uri": "https://localhost:8080/",
     "height": 35
    },
    "colab_type": "code",
    "id": "iy528EUTphz5",
    "outputId": "3ad33bf1-44d1-4356-8806-8a848a05fc92"
   },
   "outputs": [
    {
     "name": "stdout",
     "output_type": "stream",
     "text": [
      "Accuracy: 0.68\n"
     ]
    }
   ],
   "source": [
    "token_results = token_results\n",
    "token_accuracy = token_accuracy\n",
    "print(\"Accuracy: %0.2f\" % token_accuracy)"
   ]
  },
  {
   "cell_type": "markdown",
   "metadata": {
    "colab_type": "text",
    "id": "Twox0s_3eS0V"
   },
   "source": [
    "If the sentiment lexicon also has information about the **magnitude** of\n",
    "sentiment (e.g., *“excellent\"* would have higher magnitude than\n",
    "*“good\"*), we could take a more fine-grained approach by adding up all\n",
    "sentiment scores, and deciding the polarity of the movie review using\n",
    "the sign of the weighted score $S_{weighted}$.\n",
    "\n",
    "$$S_{weighted}(w_1w_2...w_n) = \\sum_{i = 1}^{n}SLex\\big[w_i\\big]$$\n",
    "\n",
    "\n",
    "Their lexicon also records two possible magnitudes of sentiment (*weak*\n",
    "and *strong*), so you can implement both the binary and the weighted\n",
    "solutions (please use a switch in your program). For the weighted\n",
    "solution, you can choose the weights intuitively *once* before running\n",
    "the experiment.\n",
    "\n",
    "#### (Q: 1.2) Now incorporate magnitude information and report the classification accuracy. Don't forget to use the threshold. (1 pt)"
   ]
  },
  {
   "cell_type": "code",
   "execution_count": 0,
   "metadata": {
    "colab": {},
    "colab_type": "code",
    "id": "qG3hUDnPtkhS"
   },
   "outputs": [],
   "source": [
    "# Magnitude information\n",
    "\n",
    "k = balance = accuracy = neg_weak_tonkens = neg_strong_tonkens = pos_weak_tonkens = pos_strong_tonkens = 0 \n",
    "\n",
    "magnitude_results = []\n",
    "review_classify_mag = [None] * 2000\n",
    "for review in reviews:\n",
    "  balance = 0\n",
    "  for sentence in review[\"content\"]:\n",
    "    for token, pos_tag in sentence:\n",
    "      try: \n",
    "        if (dict2[token.lower()] == \"negative\"):\n",
    "          if(dict3[token.lower()] == \"weaksubj\"):\n",
    "            balance -= 0.6\n",
    "            neg_weak_tonkens += 1\n",
    "          else:\n",
    "            balance -= 1.7\n",
    "            neg_strong_tonkens += 1\n",
    "        elif(dict2[token.lower()] == 'positive'):\n",
    "          if(dict3[token.lower()] == 'weaksubj'):\n",
    "            balance += 0.6\n",
    "            pos_weak_tonkens += 1\n",
    "          else:\n",
    "            balance += 1.7\n",
    "            pos_strong_tonkens += 1\n",
    "        else:\n",
    "          continue\n",
    "      except KeyError:\n",
    "        pass\n",
    "  if balance>8: \n",
    "    review_classify_mag[k] = ['POS', balance]\n",
    "  else:\n",
    "    review_classify_mag[k] = ['NEG', balance]\n",
    "\n",
    "  if review['sentiment'] == review_classify_mag[k][0]:\n",
    "      accuracy += 1\n",
    "      magnitude_results.append('+')\n",
    "  else:\n",
    "      magnitude_results.append('-')\n",
    "  k+=1\n",
    "\n",
    "magnitude_accuracy = accuracy/k"
   ]
  },
  {
   "cell_type": "code",
   "execution_count": 0,
   "metadata": {
    "colab": {
     "base_uri": "https://localhost:8080/",
     "height": 35
    },
    "colab_type": "code",
    "id": "9vVk7CvDpyka",
    "outputId": "8e3e5dbf-1be0-4e13-ce91-2ed1bd9fbc49"
   },
   "outputs": [
    {
     "name": "stdout",
     "output_type": "stream",
     "text": [
      "Accuracy: 0.69\n"
     ]
    }
   ],
   "source": [
    "magnitude_results = magnitude_results\n",
    "magnitude_accuracy = magnitude_accuracy\n",
    "print(\"Accuracy: %0.2f\" % magnitude_accuracy)"
   ]
  },
  {
   "cell_type": "markdown",
   "metadata": {
    "colab_type": "text",
    "id": "h9SHoGPfsAHV"
   },
   "source": [
    "#### Optional: make a barplot of the two results."
   ]
  },
  {
   "cell_type": "code",
   "execution_count": 0,
   "metadata": {
    "colab": {
     "base_uri": "https://localhost:8080/",
     "height": 363
    },
    "colab_type": "code",
    "id": "8LgBcYcXsEk3",
    "outputId": "3c669d5f-c996-4865-8dd8-1be81c7ad1fb"
   },
   "outputs": [
    {
     "data": {
      "image/png": "[encoded data removed]",
      "text/plain": [
       "<matplotlib.figure.Figure at 0x7f879530f588>"
      ]
     },
     "metadata": {
      "tags": []
     },
     "output_type": "display_data"
    }
   ],
   "source": [
    "objects = ('Binary', 'Magnitude')\n",
    "y_pos = np.arange(len(objects))\n",
    "accuracy = [token_accuracy, magnitude_accuracy]\n",
    "\n",
    "plt.bar(y_pos, accuracy, align='center', alpha=0.5)\n",
    "plt.xticks(y_pos, objects)\n",
    "plt.ylabel('Accuracy')\n",
    "plt.title('Symbolic Approach results')\n",
    " \n",
    "plt.show()"
   ]
  },
  {
   "cell_type": "markdown",
   "metadata": {
    "colab_type": "text",
    "id": "6MFrz8Jink0D"
   },
   "source": [
    "Answering questions in statistically significant ways (1pt)\n",
    "-------------------------------------------------------------"
   ]
  },
  {
   "cell_type": "markdown",
   "metadata": {
    "colab_type": "text",
    "id": "kxkxrldT9Ymc"
   },
   "source": [
    "Does using the magnitude improve the results? Oftentimes, answering questions like this about the performance of\n",
    "different signals and/or algorithms by simply looking at the output\n",
    "numbers is not enough. When dealing with natural language or human\n",
    "ratings, it’s safe to assume that there are infinitely many possible\n",
    "instances that could be used for training and testing, of which the ones\n",
    "we actually train and test on are a tiny sample. Thus, it is possible\n",
    "that observed differences in the reported performance are really just\n",
    "noise. \n",
    "\n",
    "There exist statistical methods which can be used to check for\n",
    "consistency (*statistical significance*) in the results, and one of the\n",
    "simplest such tests is the **sign test**. \n",
    "\n",
    "The sign test is based on the binomial distribution. Count all cases when System 1 is better than System 2, when System 2 is better than System 1, and when they are the same. Call these numbers $Plus$, $Minus$ and $Null$ respectively. \n",
    "\n",
    "The sign test returns the probability that the null hypothesis is true. \n",
    "\n",
    "This probability is called the $p$-value and it can be calculated for the two-sided sign test using the following formula (we multiply by two because this is a two-sided sign test and tests for the significance of differences in either direction):\n",
    "\n",
    "$$2 \\, \\sum\\limits_{i=0}^{k} \\binom{N}{i} \\, q^i \\, (1-q)^{N-i}$$\n",
    "\n",
    "where $$N = 2 \\Big\\lceil \\frac{Null}{2}\\Big\\rceil + Plus + Minus$$ is the total\n",
    "number of cases, and\n",
    "$$k = \\Big\\lceil \\frac{Null}{2}\\Big\\rceil + \\min\\{Plus,Minus\\}$$ is the number of\n",
    "cases with the less common sign. \n",
    "\n",
    "In this experiment, $q = 0.5$. Here, we\n",
    "treat ties by adding half a point to either side, rounding up to the\n",
    "nearest integer if necessary. \n",
    "\n",
    "\n",
    "#### (Q 2.1): Implement the sign test. Is the difference between the two symbolic systems significant? What is the p-value? (1 pt)\n",
    "\n",
    "You should use the `comb` function from `scipy` and the `decimal` package for the stable adding of numbers in the final summation.\n",
    "\n",
    "You can quickly verify the correctness of\n",
    "your sign test code using a [free online\n",
    "tool](https://www.graphpad.com/quickcalcs/binomial1.cfm)."
   ]
  },
  {
   "cell_type": "code",
   "execution_count": 0,
   "metadata": {
    "colab": {
     "base_uri": "https://localhost:8080/",
     "height": 52
    },
    "colab_type": "code",
    "id": "de5l4oPkE-BS",
    "outputId": "fac06dab-46b3-4ce4-e580-d1e529adf1ac"
   },
   "outputs": [
    {
     "name": "stdout",
     "output_type": "stream",
     "text": [
      "The difference is not significant\n",
      "p-value: 0.4472\n"
     ]
    }
   ],
   "source": [
    "from decimal import Decimal\n",
    "from scipy.special import comb\n",
    "\n",
    "def sign_test(results_1, results_2):\n",
    "  \"\"\"test for significance\n",
    "  results_1 is a list of classification results (+ for correct, - incorrect)\n",
    "  results_2 is a list of classification results (+ for correct, - incorrect)\n",
    "  \"\"\"\n",
    "  ties, plus, minus = 0, 0, 0\n",
    "\n",
    "  # \"-\" carries the error\n",
    "  for i in range(0, len(results_1)):\n",
    "    if results_1[i]==results_2[i]:\n",
    "      ties += 1\n",
    "    elif results_1[i]==\"-\": \n",
    "      plus += 1\n",
    "    elif results_2[i]==\"-\": \n",
    "      minus += 1\n",
    "\n",
    "  q = 0.5\n",
    "  N = 2 * math.ceil(ties/2) + plus + minus\n",
    "  k = math.ceil(ties/2) + min(plus, minus)\n",
    "\n",
    "  summation = Decimal(0.0)\n",
    "  \n",
    "  for i in range(0, k + 1):\n",
    "    summation += Decimal(comb(N, i, exact=True)) * (Decimal(0.5)**Decimal(N))\n",
    "      \n",
    "  # use two-tailed version of test\n",
    "  summation *= 2\n",
    "  \n",
    "  print(\"The difference is\", \n",
    "        \"not significant\" if summation >= 0.05 else \"significant\")\n",
    "  \n",
    "  return summation\n",
    "\n",
    "p = sign_test(token_results, magnitude_results)\n",
    "print('p-value:',\"{0:.4f}\".format(p))"
   ]
  },
  {
   "cell_type": "markdown",
   "metadata": {
    "colab_type": "text",
    "id": "uhU_tk-BOaXb"
   },
   "source": [
    "## Using the Sign test\n",
    "\n",
    "**From now on, report all differences between systems using the\n",
    "sign test.** You can think about a change that you apply to one system, as a\n",
    " new system.\n",
    "    \n",
    "You should report statistical test\n",
    "results in an appropriate form – if there are several different methods\n",
    "(i.e., systems) to compare, tests can only be applied to pairs of them\n",
    "at a time. This creates a triangular matrix of test results in the\n",
    "general case. When reporting these pair-wise differences, you should\n",
    "summarise trends to avoid redundancy.\n"
   ]
  },
  {
   "cell_type": "markdown",
   "metadata": {
    "colab_type": "text",
    "id": "LibV4nR89BXb"
   },
   "source": [
    "Naive Bayes (8pt + 1pt bonus)\n",
    "=========="
   ]
  },
  {
   "cell_type": "markdown",
   "metadata": {
    "colab_type": "text",
    "id": "fnF9adQnuwia"
   },
   "source": [
    "\n",
    "Your second task is to program a simple Machine Learning approach that operates\n",
    "on a simple Bag-of-Words (BoW) representation of the text data, as\n",
    "described in Pang et al. (2002). In this approach, the only features we\n",
    "will consider are the words in the text themselves, without bringing in\n",
    "external sources of information. The BoW model is a popular way of\n",
    "representing text information as vectors (or points in space), making it\n",
    "easy to apply classical Machine Learning algorithms on NLP tasks.\n",
    "However, the BoW representation is also very crude, since it discards\n",
    "all information related to word order and grammatical structure in the\n",
    "original text.\n",
    "\n",
    "## Writing your own classifier\n",
    "\n",
    "Write your own code to implement the Naive Bayes (NB) classifier. As\n",
    "a reminder, the Naive Bayes classifier works according to the following\n",
    "equation:\n",
    "$$\\hat{c} = \\operatorname*{arg\\,max}_{c \\in C} P(c|\\bar{f}) = \\operatorname*{arg\\,max}_{c \\in C} P(c)\\prod^n_{i=1} P(f_i|c)$$\n",
    "where $C = \\{ \\text{POS}, \\text{NEG} \\}$ is the set of possible classes,\n",
    "$\\hat{c} \\in C$ is the most probable class, and $\\bar{f}$ is the feature\n",
    "vector. Remember that we use the log of these probabilities when making\n",
    "a prediction:\n",
    "$$\\hat{c} = \\operatorname*{arg\\,max}_{c \\in C} \\Big\\{\\log P(c) + \\sum^n_{i=1} \\log P(f_i|c)\\Big\\}$$\n",
    "\n",
    "You can find more details about Naive Bayes in [Jurafsky &\n",
    "Martin](https://web.stanford.edu/~jurafsky/slp3/). You can also look at\n",
    "this helpful\n",
    "[pseudo-code](https://nlp.stanford.edu/IR-book/html/htmledition/naive-bayes-text-classification-1.html).\n",
    "\n",
    "*Note: this section and the next aim to put you a position to replicate\n",
    "    Pang et al., Naive Bayes results. However, the numerical results\n",
    "    will differ from theirs, as they used different data.*\n",
    "\n",
    "**You must write the Naive Bayes training and prediction code from\n",
    "scratch.** You will not be given credit for using off-the-shelf Machine\n",
    "Learning libraries.\n",
    "\n",
    "The data contains the text of the reviews, where each document consists\n",
    "of the sentences in the review, the sentiment of the review and an index\n",
    "(cv) that you will later use for cross-validation. You will find the\n",
    "text has already been tokenised and POS-tagged for you. Your algorithm\n",
    "should read in the text, **lowercase it**, and store the words and their\n",
    "frequencies in an appropriate data structure that allows for easy\n",
    "computation of the probabilities used in the Naive Bayes algorithm, and\n",
    "then make predictions for new instances."
   ]
  },
  {
   "cell_type": "markdown",
   "metadata": {
    "colab_type": "text",
    "id": "gsZRhaI3WvzC"
   },
   "source": [
    "#### (Q3.1) Train your classifier on (positive and negative) reviews with cv-value 000-899, and test it on the remaining reviews cv900–cv999.  Report results using simple classification accuracy as your evaluation metric. Your  features are the word vocabulary. The value of a feature is the count of that feature (word) in the document. (2pts)\n"
   ]
  },
  {
   "cell_type": "code",
   "execution_count": 0,
   "metadata": {
    "colab": {
     "base_uri": "https://localhost:8080/",
     "height": 35
    },
    "colab_type": "code",
    "id": "G7zaJYGFvIJ3",
    "outputId": "91141ba2-076b-4cfd-c0b9-423a793e70be"
   },
   "outputs": [
    {
     "name": "stdout",
     "output_type": "stream",
     "text": [
      "Accuracy of Naive Bayes: 49.5 %\n"
     ]
    }
   ],
   "source": [
    "import math\n",
    "def NaiveBayes(trainData, testData):\n",
    "  dictClassP = {}\n",
    "  dictClassN = {}\n",
    "  resultNBNoSmoothing = []\n",
    "  noPosDocs = 0\n",
    "  noNegDocs = 0\n",
    "  for review in trainData:\n",
    "    sentiment = review[\"sentiment\"]  \n",
    "    if(sentiment == \"POS\"):\n",
    "      useDict = dictClassP\n",
    "      noPosDocs += 1\n",
    "    else:\n",
    "      useDict = dictClassN\n",
    "      noNegDocs += 1\n",
    "    for sentence in review[\"content\"]:\n",
    "      for token, pos_tag in sentence:          \n",
    "        if token.lower() in useDict:\n",
    "          count = useDict[token.lower()]\n",
    "          useDict[token.lower()] = count + 1\n",
    "        else:\n",
    "          useDict[token.lower()] = 1\n",
    "        \n",
    "  totalDocs = noPosDocs + noNegDocs\n",
    "  probPos = noPosDocs/totalDocs\n",
    "  probNeg = noNegDocs/totalDocs\n",
    "  \n",
    "  totalFreqClassP = sum(dictClassP.values())\n",
    "  totalFreqClassN = sum(dictClassN.values())\n",
    "  for token, freq in dictClassP.items():\n",
    "    dictClassP[token]= freq/totalFreqClassP\n",
    "  for token, freq in dictClassN.items():\n",
    "    dictClassN[token] = freq/totalFreqClassN\n",
    "\n",
    "  logClassP = math.log(probPos)\n",
    "  logClassN = math.log(probNeg)\n",
    "  \n",
    "  accuracy = 0\n",
    "  docCount = 0\n",
    "  for review in testData:\n",
    "    sentiment = review[\"sentiment\"]\n",
    "    docCount += 1\n",
    "    eachTokenProbClassP = 0\n",
    "    eachTokenProbClassN = 0\n",
    "    for sentence in review[\"content\"]:    \n",
    "      for token, pos_tag in sentence:\n",
    "        if(token.lower() in dictClassP):\n",
    "          eachTokenProbClassP += math.log(dictClassP[token.lower()])\n",
    "        if(token.lower() in dictClassN):  \n",
    "          eachTokenProbClassN += math.log(dictClassN[token.lower()])\n",
    "    probReviewInClassP = logClassP + eachTokenProbClassP\n",
    "    probReviewInClassN = logClassN + eachTokenProbClassN\n",
    "    if (probReviewInClassP >= probReviewInClassN):\n",
    "      prediction = \"POS\"\n",
    "    else:\n",
    "      prediction = \"NEG\"\n",
    "    if (prediction == sentiment):\n",
    "      resultNBNoSmoothing.append(\"+\")\n",
    "    else:\n",
    "      resultNBNoSmoothing.append(\"-\")\n",
    "      \n",
    "  return resultNBNoSmoothing\n",
    "  \n",
    "\n",
    "# Split Data\n",
    "trainData = [] \n",
    "testData = []\n",
    "for review in reviews:\n",
    "  cv = review[\"cv\"]\n",
    "  if (cv in range(0, 900)):\n",
    "    trainData.append(review)\n",
    "    \n",
    "for review in reviews:\n",
    "  cv = review[\"cv\"]\n",
    "  if (cv in range(900,1000)):\n",
    "    testData.append(review)\n",
    "\n",
    "# Get NB score\n",
    "resultNBNoSmoothing = NaiveBayes(trainData, testData)\n",
    "accuracy=resultNBNoSmoothing.count(\"+\")/200\n",
    "\n",
    "print(\"Accuracy of Naive Bayes:\", 100 * accuracy,\"%\")\n"
   ]
  },
  {
   "cell_type": "markdown",
   "metadata": {
    "colab_type": "text",
    "id": "0INK-PBoM6CB"
   },
   "source": [
    "#### (Bonus Questions) Would you consider accuracy to also be a good way to evaluate your classifier in a situation where 90% of your data instances are of positive movie reviews? (1pt)\n",
    "\n",
    "You can simulate this scenario by keeping the positive reviews\n",
    "data unchanged, but only using negative reviews cv000–cv089 for\n",
    "training, and cv900–cv909 for testing. Calculate the classification\n",
    "accuracy, and explain what changed."
   ]
  },
  {
   "cell_type": "code",
   "execution_count": 0,
   "metadata": {
    "colab": {
     "base_uri": "https://localhost:8080/",
     "height": 35
    },
    "colab_type": "code",
    "id": "GWDkt5ZrrFGp",
    "outputId": "865e2ede-de49-4184-9280-0baabb7f4ecb"
   },
   "outputs": [
    {
     "name": "stdout",
     "output_type": "stream",
     "text": [
      "Accuracy: 9.0909 %\n"
     ]
    }
   ],
   "source": [
    "import math\n",
    "dictClassP = {}\n",
    "dictClassN = {}\n",
    "#dictNBPrediction = {}\n",
    "noPosDocs = 0\n",
    "noNegDocs = 0\n",
    "\n",
    "for review in reviews:\n",
    "  cv = review[\"cv\"]\n",
    "  \n",
    "  sentiment = review[\"sentiment\"]  \n",
    "  if(sentiment == \"POS\"):\n",
    "    if (cv not in range(0, 900)):\n",
    "      continue\n",
    "    useDict = dictClassP\n",
    "    noPosDocs += 1\n",
    "  else:\n",
    "    if (cv not in range(0, 90)):\n",
    "      continue\n",
    "    useDict = dictClassN\n",
    "    noNegDocs += 1\n",
    "  for sentence in review[\"content\"]:\n",
    "    for token, pos_tag in sentence:          \n",
    "      if token.lower() in useDict:\n",
    "        count = useDict[token.lower()]\n",
    "        useDict[token.lower()] = count + 1\n",
    "      else:\n",
    "        useDict[token.lower()] = 1\n",
    "        \n",
    "totalDocs = noPosDocs + noNegDocs\n",
    "probPos = noPosDocs/totalDocs\n",
    "probNeg = noNegDocs/totalDocs\n",
    "totalFreqClassP = sum(dictClassP.values())\n",
    "totalFreqClassN = sum(dictClassN.values())\n",
    "for token, freq in dictClassP.items():\n",
    "   dictClassP[token]= freq/totalFreqClassP\n",
    "for token, freq in dictClassN.items():\n",
    "  dictClassN[token] = freq/totalFreqClassN\n",
    "\n",
    "logClassP = math.log(probPos)\n",
    "logClassN = math.log(probNeg)\n",
    "accuracy = 0\n",
    "docCount = 0\n",
    "for review in reviews:\n",
    "  cv = review[\"cv\"]\n",
    "  sentiment = review[\"sentiment\"]\n",
    "  if((sentiment == \"POS\") and (cv not in range(900,1000)) or \n",
    "      ((sentiment == \"NEG\") and (cv not in range(900, 910)))):\n",
    "    continue\n",
    "  docCount += 1  \n",
    "  eachTokenProbClassP = 0\n",
    "  eachTokenProbClassN = 0\n",
    "  for sentence in review[\"content\"]:\n",
    "    for token, pos_tag in sentence:\n",
    "      if(token.lower() in dictClassP):\n",
    "        eachTokenProbClassP += math.log(dictClassP[token.lower()])\n",
    "      if(token.lower() in dictClassN):\n",
    "        eachTokenProbClassN += math.log(dictClassN[token.lower()])\n",
    "  probReviewInClassP = logClassP + eachTokenProbClassP\n",
    "  probReviewInClassN = logClassN + eachTokenProbClassN\n",
    "  if (probReviewInClassP > probReviewInClassN):\n",
    "    #dictNBPrediction[cv] = \"POS\"\n",
    "    prediction = \"POS\"\n",
    "  else:\n",
    "    #dictNBPrediction[cv] = \"NEG\"\n",
    "    prediction = \"NEG\"\n",
    "  if (prediction == sentiment):\n",
    "    accuracy += 1\n",
    "      \n",
    "\n",
    "print(\"Accuracy:\", \"{0:.4f}\".format(100 * accuracy/docCount),\"%\")"
   ]
  },
  {
   "cell_type": "markdown",
   "metadata": {
    "colab_type": "text",
    "id": "6wJzcHX3WUDm"
   },
   "source": [
    "## Smoothing\n",
    "\n",
    "The presence of words in the test dataset that\n",
    "haven’t been seen during training can cause probabilities in the Naive\n",
    "Bayes classifier to be $0$, thus making that particular test instance\n",
    "undecidable. The standard way to mitigate this effect (as well as to\n",
    "give more clout to rare words) is to use smoothing, in which the\n",
    "probability fraction\n",
    "$$\\frac{\\text{count}(w_i, c)}{\\sum\\limits_{w\\in V} \\text{count}(w, c)}$$ for a word\n",
    "$w_i$ becomes\n",
    "$$\\frac{\\text{count}(w_i, c) + \\text{smoothing}(w_i)}{\\sum\\limits_{w\\in V} \\text{count}(w, c) + \\sum\\limits_{w \\in V} \\text{smoothing}(w)}$$\n",
    "\n",
    "\n",
    "\n"
   ]
  },
  {
   "cell_type": "markdown",
   "metadata": {
    "colab_type": "text",
    "id": "PBNIcbwUWphC"
   },
   "source": [
    "#### (Q3.2) Implement Laplace feature smoothing (1pt)\n",
    "($smoothing(\\cdot) = \\kappa$, constant for all words) in your Naive\n",
    "Bayes classifier’s code, and report the impact on performance. \n",
    "Use $\\kappa = 1$."
   ]
  },
  {
   "cell_type": "code",
   "execution_count": 0,
   "metadata": {
    "colab": {
     "base_uri": "https://localhost:8080/",
     "height": 35
    },
    "colab_type": "code",
    "id": "g03yflCc9kpW",
    "outputId": "b7a6a175-584a-45c2-b09d-7da4dbb403f0"
   },
   "outputs": [
    {
     "name": "stdout",
     "output_type": "stream",
     "text": [
      "Accuracy of Naive Bayes with Laplace feature smoothing: 82.5 %\n"
     ]
    }
   ],
   "source": [
    "import math\n",
    "def NaiveBayesK(trainData, testData, printNoOfFeatures = 0):\n",
    "  k = 1\n",
    "  dictClassP = {}\n",
    "  dictClassN = {}\n",
    "  resultNBSmoothing = []\n",
    "  noPosDocs = 0\n",
    "  noNegDocs = 0\n",
    "  vocabularySet = set() # --\n",
    "  \n",
    "  #Training the model\n",
    "  for review in trainData:\n",
    "    sentiment = review[\"sentiment\"]  \n",
    "    if(sentiment == \"POS\"):\n",
    "      useDict = dictClassP\n",
    "      noPosDocs += 1\n",
    "    else:\n",
    "      useDict = dictClassN\n",
    "      noNegDocs += 1\n",
    "    for sentence in review[\"content\"]:\n",
    "      for token, pos_tag in sentence:          \n",
    "        if token.lower() in useDict:\n",
    "          count = useDict[token.lower()]\n",
    "          useDict[token.lower()] = count + 1\n",
    "        else:\n",
    "          useDict[token.lower()] = 1\n",
    "          vocabularySet.add(token.lower()) # --\n",
    "        \n",
    "  totalDocs = noPosDocs + noNegDocs\n",
    "  probPos = noPosDocs/totalDocs\n",
    "  probNeg = noNegDocs/totalDocs\n",
    "  \n",
    "  # Number of features\n",
    "  if(printNoOfFeatures):\n",
    "    return len(vocabularySet)\n",
    "    quit()\n",
    "    \n",
    "  totalFreqClassP = sum(dictClassP.values())\n",
    "  totalFreqClassN = sum(dictClassN.values())\n",
    "\n",
    "  \n",
    "  for token, freq in dictClassP.items():\n",
    "    dictClassP[token]= (freq + k)/(totalFreqClassP + (k * len(vocabularySet)))\n",
    "    \n",
    "  for token, freq in dictClassN.items():\n",
    "    dictClassN[token] = (freq + k)/(totalFreqClassN + (k * len(vocabularySet)))\n",
    "\n",
    "  \n",
    "  #Testing the model\n",
    "  logClassP = math.log(probPos)\n",
    "  logClassN = math.log(probNeg)\n",
    "  accuracy = 0\n",
    "  docCount = 0\n",
    "  for review in testData:\n",
    "    sentiment = review[\"sentiment\"]\n",
    "    docCount += 1\n",
    "    eachTokenProbClassP = 0\n",
    "    eachTokenProbClassN = 0\n",
    "    for sentence in review[\"content\"]:    \n",
    "      for token, pos_tag in sentence:\n",
    "        if(token.lower() in dictClassP):\n",
    "          eachTokenProbClassP += math.log(dictClassP[token.lower()])\n",
    "        else:\n",
    "          eachTokenProbClassP += math.log(k / (totalFreqClassP + (k * len(vocabularySet)))) # --\n",
    "        if(token.lower() in dictClassN):\n",
    "          eachTokenProbClassN += math.log(dictClassN[token.lower()])\n",
    "        else:\n",
    "          eachTokenProbClassN += math.log(k / (totalFreqClassN + (k * len(vocabularySet)))) # --\n",
    "    probReviewInClassP = logClassP + eachTokenProbClassP\n",
    "    probReviewInClassN = logClassN + eachTokenProbClassN\n",
    "    if (probReviewInClassP > probReviewInClassN):\n",
    "      prediction = \"POS\"\n",
    "    else:\n",
    "      prediction = \"NEG\"\n",
    "    if (prediction == sentiment):\n",
    "      accuracy += 1\n",
    "      resultNBSmoothing.append(\"+\")\n",
    "    else:\n",
    "      resultNBSmoothing.append(\"-\")\n",
    "      \n",
    "  return resultNBSmoothing\n",
    "  \n",
    "# Split Data \n",
    "trainData = [] \n",
    "testData = []\n",
    "for review in reviews:\n",
    "  cv = review[\"cv\"]\n",
    "  if (cv in range(0, 900)):\n",
    "    trainData.append(review)\n",
    "    \n",
    "for review in reviews:\n",
    "  cv = review[\"cv\"]\n",
    "  if (cv in range(900, 1000)):\n",
    "    testData.append(review)\n",
    "    \n",
    "#  Get NBS score\n",
    "resultNBSmoothing = NaiveBayesK(trainData, testData)\n",
    "accuracy=resultNBSmoothing.count(\"+\")/200\n",
    "print(\"Accuracy of Naive Bayes with Laplace feature smoothing:\", 100*accuracy,'%')\n"
   ]
  },
  {
   "cell_type": "markdown",
   "metadata": {
    "colab_type": "text",
    "id": "-conSBddWWyN"
   },
   "source": [
    "#### (Q3.3) Is the difference between non smoothed (Q3.1) and smoothed (Q3.2) statistically significant? (0.5pt)"
   ]
  },
  {
   "cell_type": "code",
   "execution_count": 0,
   "metadata": {
    "colab": {
     "base_uri": "https://localhost:8080/",
     "height": 52
    },
    "colab_type": "code",
    "id": "CCvSNGlHMUPz",
    "outputId": "eacf6601-6d3d-455b-d850-83aeef3583db"
   },
   "outputs": [
    {
     "name": "stdout",
     "output_type": "stream",
     "text": [
      "The difference is significant\n"
     ]
    },
    {
     "data": {
      "text/plain": [
       "Decimal('0.000003547178174130642586494974890')"
      ]
     },
     "execution_count": 13,
     "metadata": {
      "tags": []
     },
     "output_type": "execute_result"
    }
   ],
   "source": [
    "sign_test(resultNBNoSmoothing, resultNBSmoothing)"
   ]
  },
  {
   "cell_type": "markdown",
   "metadata": {
    "colab_type": "text",
    "id": "ZiGcgwba87D5"
   },
   "source": [
    "Cross-validation\n",
    "\n",
    "A serious danger in using Machine Learning on small datasets, with many\n",
    "iterations of slightly different versions of the algorithms, is that we\n",
    "end up with Type III errors, also called the “testing hypotheses\n",
    "suggested by the data” errors. This type of error occurs when we make\n",
    "repeated improvements to our classifiers by playing with features and\n",
    "their processing, but we don’t get a fresh, never-before seen test\n",
    "dataset every time. Thus, we risk developing a classifier that’s better\n",
    "and better on our data, but worse and worse at generalizing to new,\n",
    "never-before seen data.\n",
    "\n",
    "A simple method to guard against Type III errors is to use\n",
    "cross-validation. In N-fold cross-validation, we divide the data into N\n",
    "distinct chunks / folds. Then, we repeat the experiment N times, each\n",
    "time holding out one of the chunks for testing, training our classifier\n",
    "on the remaining N - 1 data chunks, and reporting performance on the\n",
    "held-out chunk. We can use different strategies for dividing the data:\n",
    "\n",
    "-   Consecutive splitting:\n",
    "  - cv000–cv099 = Split 1\n",
    "  - cv100–cv199 = Split 2\n",
    "  - etc.\n",
    "  \n",
    "-   Round-robin splitting (mod 10):\n",
    "  - cv000, cv010, cv020, … = Split 1\n",
    "  - cv001, cv011, cv021, … = Split 2\n",
    "  - etc.\n",
    "\n",
    "-   Random sampling/splitting\n",
    "  - Not used here (but you may choose to split this way in a non-educational situation)\n",
    "\n",
    "#### (Q3.4) Write the code to implement 10-fold cross-validation using round-robin splitting for your Naive Bayes classifier from Q3.2 and compute the 10 accuracies. Report the final performance, which is the average of the performances per fold. If all splits perform equally well, this is a good sign. (1pt)\n",
    "\n",
    "\n",
    "\n",
    "\n"
   ]
  },
  {
   "cell_type": "code",
   "execution_count": 0,
   "metadata": {
    "colab": {
     "base_uri": "https://localhost:8080/",
     "height": 208
    },
    "colab_type": "code",
    "id": "3KeCGPa7Nuzx",
    "outputId": "835ebd57-0891-4680-fcfb-ab23fe9cf4f1"
   },
   "outputs": [
    {
     "name": "stdout",
     "output_type": "stream",
     "text": [
      "Cross-Validation # 1  : 79.0 %\n",
      "Cross-Validation # 2  : 83.5 %\n",
      "Cross-Validation # 3  : 81.0 %\n",
      "Cross-Validation # 4  : 83.0 %\n",
      "Cross-Validation # 5  : 77.5 %\n",
      "Cross-Validation # 6  : 85.0 %\n",
      "Cross-Validation # 7  : 83.0 %\n",
      "Cross-Validation # 8  : 78.0 %\n",
      "Cross-Validation # 9  : 82.5 %\n",
      "Cross-Validation # 10 : 84.5 %\n",
      "Average Performance: 81.7 %\n"
     ]
    }
   ],
   "source": [
    "def do_cross_val(dataset, function_to_test_on, folds):\n",
    "  split = [[] for j in range(folds)]\n",
    "  for review in dataset:\n",
    "    cv = review[\"cv\"]\n",
    "    split[(cv % folds)].append(review)  \n",
    "\n",
    "  total_resultlist = []\n",
    "  accuracyList = []\n",
    "  k = 1\n",
    "  for spl in split:\n",
    "    b = [x for i,x in enumerate(split) if x!=spl] \n",
    "    resultlist = function_to_test_on(sum(b,[]),spl)\n",
    "    accuracyList.append(resultlist.count(\"+\")/200)\n",
    "    total_resultlist += resultlist\n",
    "    if k == 10:\n",
    "      print('Cross-Validation #',k,':', 100 * (resultlist.count(\"+\")/200),\"%\")\n",
    "    else:\n",
    "      print('Cross-Validation #',k,' :',100 * (resultlist.count(\"+\")/200),\"%\")\n",
    "    k += 1\n",
    "  return accuracyList, total_resultlist\n",
    "  \n",
    "accuracy_NB_CV, total_result_NB_CV = do_cross_val(reviews, NaiveBayesK, 10)\n",
    "  \n",
    "print(\"Average Performance:\", 100 * sum(accuracy_NB_CV)/len(accuracy_NB_CV),\"%\")"
   ]
  },
  {
   "cell_type": "markdown",
   "metadata": {
    "colab_type": "text",
    "id": "otdlsDXBNyOa"
   },
   "source": [
    "#### (Q3.5) Write code to calculate and report variance, in addition to the final performance. (1pt)\n",
    "\n",
    "**Please report all future results using 10-fold cross-validation now\n",
    "(unless told to use the held-out test set).**"
   ]
  },
  {
   "cell_type": "code",
   "execution_count": 0,
   "metadata": {
    "colab": {
     "base_uri": "https://localhost:8080/",
     "height": 35
    },
    "colab_type": "code",
    "id": "ZoBQm1KuNzNR",
    "outputId": "c804fef3-de46-433c-b56e-5662b7e0e22a"
   },
   "outputs": [
    {
     "name": "stdout",
     "output_type": "stream",
     "text": [
      "Variance: 0.0006509999999999987\n"
     ]
    }
   ],
   "source": [
    "def calculateVariance(data):\n",
    "  N = len(data)\n",
    "  mean = sum(data)/N\n",
    "  sqL = [(val - mean)**2 for idx, val in enumerate(data)]\n",
    "  variance = sum(sqL)/N\n",
    "  return variance\n",
    "\n",
    "var = calculateVariance(accuracy_NB_CV)\n",
    "print('Variance:',var)"
   ]
  },
  {
   "cell_type": "markdown",
   "metadata": {
    "colab_type": "text",
    "id": "s6A2zX9_BRKm"
   },
   "source": [
    "## Features, overfitting, and the curse of dimensionality\n",
    "\n",
    "In the Bag-of-Words model, ideally we would like each distinct word in\n",
    "the text to be mapped to its own dimension in the output vector\n",
    "representation. However, real world text is messy, and we need to decide\n",
    "on what we consider to be a word. For example, is “`word`\" different\n",
    "from “`Word`\", from “`word`”, or from “`words`\"? Too strict a\n",
    "definition, and the number of features explodes, while our algorithm\n",
    "fails to learn anything generalisable. Too lax, and we risk destroying\n",
    "our learning signal. In the following section, you will learn about\n",
    "confronting the feature sparsity and the overfitting problems as they\n",
    "occur in NLP classification tasks."
   ]
  },
  {
   "cell_type": "markdown",
   "metadata": {
    "colab_type": "text",
    "id": "EKK8FNt8VtcZ"
   },
   "source": [
    "#### (Q3.6): A touch of linguistics (1pt)\n",
    "\n",
    "Taking a step further, you can use stemming to\n",
    "hash different inflections of a word to the same feature in the BoW\n",
    "vector space. How does the performance of your classifier change when\n",
    "you use stemming on your training and test datasets? Please use the [Porter stemming\n",
    "    algorithm](http://www.nltk.org/howto/stem.html) from NLTK.\n",
    " Also, you should do cross validation and concatenate the predictions from all folds to compute the significance."
   ]
  },
  {
   "cell_type": "code",
   "execution_count": 0,
   "metadata": {
    "colab": {
     "base_uri": "https://localhost:8080/",
     "height": 208
    },
    "colab_type": "code",
    "id": "NxtCul1IrBi_",
    "outputId": "9e37c7d3-1e74-4fd2-b635-5754298e4fb8"
   },
   "outputs": [
    {
     "name": "stdout",
     "output_type": "stream",
     "text": [
      "Cross-Validation # 1  : 78.0 %\n",
      "Cross-Validation # 2  : 84.0 %\n",
      "Cross-Validation # 3  : 81.0 %\n",
      "Cross-Validation # 4  : 85.0 %\n",
      "Cross-Validation # 5  : 77.5 %\n",
      "Cross-Validation # 6  : 83.5 %\n",
      "Cross-Validation # 7  : 81.0 %\n",
      "Cross-Validation # 8  : 77.5 %\n",
      "Cross-Validation # 9  : 83.0 %\n",
      "Cross-Validation # 10 : 84.0 %\n",
      "Average Performance using Porter's stemming algorithm: 81.45 %\n"
     ]
    }
   ],
   "source": [
    "import math\n",
    "from nltk.stem import *\n",
    "stemmer = PorterStemmer()\n",
    "def NaiveBayesKStem(trainData, testData, printNoOfFeatures = 0):\n",
    "  k = 1\n",
    "  dictClassP = {}\n",
    "  dictClassN = {}\n",
    "  resultPorterNBSmoothing = []\n",
    "  noPosDocs = 0\n",
    "  noNegDocs = 0\n",
    "  vocabularySet = set()\n",
    "  \n",
    "  #Training the model\n",
    "  for review in trainData:\n",
    "    sentiment = review[\"sentiment\"]  \n",
    "    if(sentiment == \"POS\"):\n",
    "      useDict = dictClassP\n",
    "      noPosDocs += 1\n",
    "    else:\n",
    "      useDict = dictClassN\n",
    "      noNegDocs += 1\n",
    "    for sentence in review[\"content\"]:\n",
    "      for token, pos_tag in sentence: \n",
    "        stemmedToken = stemmer.stem(token.lower())\n",
    "        if stemmedToken in useDict:\n",
    "          count = useDict[stemmedToken]\n",
    "          useDict[stemmedToken] = count + 1\n",
    "        else:\n",
    "          useDict[stemmedToken] = 1\n",
    "          vocabularySet.add(stemmedToken)\n",
    "\n",
    "        \n",
    "  totalDocs = noPosDocs + noNegDocs\n",
    "  probPos = noPosDocs/totalDocs\n",
    "  probNeg = noNegDocs/totalDocs\n",
    "  \n",
    "  #Number of features\n",
    "  if (printNoOfFeatures):\n",
    "    return len(vocabularySet)\n",
    "    quit()\n",
    "  \n",
    "  totalFreqClassP = sum(dictClassP.values())\n",
    "  totalFreqClassN = sum(dictClassN.values())\n",
    "\n",
    "  \n",
    "  for token, freq in dictClassP.items():\n",
    "    dictClassP[token]= (freq + k)/(totalFreqClassP + (k * len(vocabularySet)))\n",
    "  \n",
    "  for token, freq in dictClassN.items():\n",
    "    dictClassN[token] = (freq + k)/(totalFreqClassN + (k * len(vocabularySet)))\n",
    "\n",
    "  \n",
    "  #Testing the model\n",
    "  logClassP = math.log(probPos)\n",
    "  logClassN = math.log(probNeg)\n",
    "  accuracy = 0\n",
    "  docCount = 0\n",
    "  for review in testData:\n",
    "    sentiment = review[\"sentiment\"]\n",
    "    docCount += 1\n",
    "    eachTokenProbClassP = 0\n",
    "    eachTokenProbClassN = 0\n",
    "    for sentence in review[\"content\"]:    \n",
    "      for token, pos_tag in sentence:\n",
    "        stemmedToken = stemmer.stem(token.lower())\n",
    "        if(stemmedToken in dictClassP):\n",
    "          eachTokenProbClassP += math.log(dictClassP[stemmedToken])\n",
    "        else:\n",
    "          eachTokenProbClassP += math.log(k / (totalFreqClassP + (k * len(vocabularySet))))\n",
    "        if(stemmedToken in dictClassN):\n",
    "          eachTokenProbClassN += math.log(dictClassN[stemmedToken])\n",
    "        else:\n",
    "          eachTokenProbClassN += math.log(k / (totalFreqClassN + (k * len(vocabularySet))))\n",
    "    probReviewInClassP = logClassP + eachTokenProbClassP\n",
    "    probReviewInClassN = logClassN + eachTokenProbClassN\n",
    "    if (probReviewInClassP > probReviewInClassN):\n",
    "      prediction = \"POS\"\n",
    "    else:\n",
    "      prediction = \"NEG\"\n",
    "    if (prediction == sentiment):\n",
    "      accuracy += 1\n",
    "      resultPorterNBSmoothing.append(\"+\")\n",
    "    else:\n",
    "      resultPorterNBSmoothing.append(\"-\")\n",
    "      \n",
    "  return resultPorterNBSmoothing\n",
    "\n",
    "\n",
    "accuracy_NBK_CV, total_result_NBK_CV =  do_cross_val(reviews, NaiveBayesKStem, 10)\n",
    "print(\"Average Performance using Porter's stemming algorithm:\", \"{0:.2f}\".format(100* sum(accuracy_NBK_CV)/len(accuracy_NBK_CV)),'%')"
   ]
  },
  {
   "cell_type": "markdown",
   "metadata": {
    "colab_type": "text",
    "id": "6SrJ1BeLXTnk"
   },
   "source": [
    "#### (Q3.7): Is the difference between NB with smoothing and NB with smoothing+stemming significant? (0.5pt)\n"
   ]
  },
  {
   "cell_type": "code",
   "execution_count": 0,
   "metadata": {
    "colab": {
     "base_uri": "https://localhost:8080/",
     "height": 52
    },
    "colab_type": "code",
    "id": "gYqKBOiIrInT",
    "outputId": "573e4a3c-d9a5-459b-a67d-9df7b7511242"
   },
   "outputs": [
    {
     "name": "stdout",
     "output_type": "stream",
     "text": [
      "The difference is not significant\n"
     ]
    },
    {
     "data": {
      "text/plain": [
       "Decimal('0.9287507758426057968438994566')"
      ]
     },
     "execution_count": 17,
     "metadata": {
      "tags": []
     },
     "output_type": "execute_result"
    }
   ],
   "source": [
    "sign_test(total_result_NB_CV, total_result_NBK_CV)"
   ]
  },
  {
   "cell_type": "markdown",
   "metadata": {
    "colab_type": "text",
    "id": "JkDHVq_1XUVP"
   },
   "source": [
    "#### Q3.8: What happens to the number of features (i.e., the size of the vocabulary) when using stemming as opposed to (Q3.2)? (0.5pt)\n",
    "Give actual numbers. You can use the held-out training set to determine these."
   ]
  },
  {
   "cell_type": "code",
   "execution_count": 0,
   "metadata": {
    "colab": {
     "base_uri": "https://localhost:8080/",
     "height": 52
    },
    "colab_type": "code",
    "id": "MA3vee5-rJyy",
    "outputId": "1e7cb5bc-1c28-4cc8-aa33-767ca22355c4"
   },
   "outputs": [
    {
     "name": "stdout",
     "output_type": "stream",
     "text": [
      "Number of features when using stemming: 32404\n",
      "Number of features without using stemming: 45348\n"
     ]
    }
   ],
   "source": [
    "def testNoOfFeatures(function):\n",
    "  trainData = [] \n",
    "  testData = []\n",
    "  for review in reviews:\n",
    "    cv = review[\"cv\"]\n",
    "    if (cv in range(0, 900)):\n",
    "      trainData.append(review)\n",
    "    \n",
    "  for review in reviews:\n",
    "    cv = review[\"cv\"]\n",
    "    if (cv in range(900, 1000)):\n",
    "      testData.append(review)\n",
    "  \n",
    "  if(function == 0):\n",
    "    print(\"Number of features when using stemming:\", NaiveBayesKStem(trainData, testData, 1))\n",
    "  else:\n",
    "    print(\"Number of features without using stemming:\", NaiveBayesK(trainData, testData, 1))\n",
    "  \n",
    "testNoOfFeatures(0) \n",
    "testNoOfFeatures(1)"
   ]
  },
  {
   "cell_type": "markdown",
   "metadata": {
    "colab_type": "text",
    "id": "SoazfxbNV5Lq"
   },
   "source": [
    "#### Q3.9: Putting some word order back in (0.5+0.5pt=1pt)\n",
    "\n",
    "A simple way of retaining some of the word\n",
    "order information when using bag-of-words representations is to add **n-grams** features. \n",
    "Retrain your classifier from (Q3.4) using **unigrams+bigrams** and\n",
    "**unigrams+bigrams+trigrams** as features, and report accuracy and statistical significances (in comparison to the experiment at (Q3.4) for all 10 folds, and between the new systems).\n",
    "\n",
    "\n",
    "\n"
   ]
  },
  {
   "cell_type": "code",
   "execution_count": 0,
   "metadata": {
    "colab": {
     "base_uri": "https://localhost:8080/",
     "height": 572
    },
    "colab_type": "code",
    "id": "dAmmJMpioTWP",
    "outputId": "2ae4ed51-988e-4c6d-9e47-54c42e301e12"
   },
   "outputs": [
    {
     "name": "stdout",
     "output_type": "stream",
     "text": [
      "Cross-Validation # 1  : 80.0 %\n",
      "Cross-Validation # 2  : 87.5 %\n",
      "Cross-Validation # 3  : 83.5 %\n",
      "Cross-Validation # 4  : 87.0 %\n",
      "Cross-Validation # 5  : 80.5 %\n",
      "Cross-Validation # 6  : 87.0 %\n",
      "Cross-Validation # 7  : 82.5 %\n",
      "Cross-Validation # 8  : 84.0 %\n",
      "Cross-Validation # 9  : 86.0 %\n",
      "Cross-Validation # 10 : 85.0 %\n",
      "Average Performance of unigrams+bigrams: 84.3 %\n",
      "\n",
      "Classification performance difference of the bigram compared to that of the unigram:\n",
      "The difference is not significant\n",
      "\n",
      "-----------------\n",
      "\n",
      "Cross-Validation # 1  : 80.0 %\n",
      "Cross-Validation # 2  : 88.5 %\n",
      "Cross-Validation # 3  : 85.0 %\n",
      "Cross-Validation # 4  : 88.5 %\n",
      "Cross-Validation # 5  : 81.5 %\n",
      "Cross-Validation # 6  : 89.5 %\n",
      "Cross-Validation # 7  : 83.5 %\n",
      "Cross-Validation # 8  : 83.0 %\n",
      "Cross-Validation # 9  : 87.5 %\n",
      "Cross-Validation # 10 : 84.5 %\n",
      "Average Performance of unigrams+bigrams+trigrams: 85.15 %\n",
      "\n",
      "Classification performance difference of the trigram compared to that of the unigram:\n",
      "The difference is not significant\n"
     ]
    },
    {
     "data": {
      "text/plain": [
       "Decimal('0.1025862286532821302108088733')"
      ]
     },
     "execution_count": 19,
     "metadata": {
      "tags": []
     },
     "output_type": "execute_result"
    }
   ],
   "source": [
    "import nltk\n",
    "from nltk import ngrams\n",
    "\n",
    "def NaiveBayesK_ngrams(trainData, testData, n=3, giveNoOfTestFeatures = 0):\n",
    "  dictClassP = {}\n",
    "  dictClassN = {}\n",
    "  noDocsInClassP = 0\n",
    "  noDocsInClassN = 0\n",
    "  vocabularySet = set()\n",
    "  \n",
    "  for idx, review in enumerate(trainData):\n",
    "    concatTrainReviews = []\n",
    "    sentiment = review[\"sentiment\"]\n",
    "    if (sentiment == \"POS\"):\n",
    "      useDict = dictClassP\n",
    "      noDocsInClassP += 1\n",
    "    else:\n",
    "      useDict = dictClassN\n",
    "      noDocsInClassN += 1\n",
    "    for sentence in review[\"content\"]:\n",
    "      for token, pos_tag in sentence:\n",
    "        \n",
    "        concatTrainReviews.append(token.lower())\n",
    "        if (token.lower() in useDict):\n",
    "          useDict[token.lower()] += 1\n",
    "        else :\n",
    "          useDict[token.lower()] = 1\n",
    "          vocabularySet.add(token.lower())\n",
    "    \n",
    "    splitRev = []\n",
    "    for grams in range(2,n+1):\n",
    "      splitr = list(ngrams(concatTrainReviews, grams))\n",
    "      splitRev.extend(splitr)\n",
    "    \n",
    "    for rev in splitRev:      \n",
    "      if(rev in useDict):\n",
    "        useDict[rev] += 1\n",
    "      else:\n",
    "        vocabularySet.add(rev)\n",
    "        useDict[rev] = 1\n",
    "  \n",
    "  \n",
    "  totalDocs = noDocsInClassP + noDocsInClassN\n",
    "  probPos = noDocsInClassP/totalDocs\n",
    "  probNeg = noDocsInClassN/totalDocs\n",
    "  logClassP = math.log(probPos)\n",
    "  logClassN = math.log(probNeg)\n",
    "  \n",
    "  k = 1\n",
    "  \n",
    "  totalFreqClassP = sum(dictClassP.values())\n",
    "  totalFreqClassN = sum(dictClassN.values())\n",
    "  \n",
    "  vocab = len(vocabularySet)\n",
    "  if (giveNoOfTestFeatures):\n",
    "    return vocab\n",
    "  \n",
    "  for token, freq in dictClassP.items():\n",
    "    dictClassP[token]= (freq + k)/(totalFreqClassP + (k * vocab))\n",
    "  for token, freq in dictClassN.items():\n",
    "    dictClassN[token]= (freq + k)/(totalFreqClassN + (k * vocab))\n",
    "  \n",
    "  #print(dictClassP)\n",
    "  resultNB_ngram = []\n",
    "  model_accuracy = 0\n",
    "  for idx, review in enumerate(testData):\n",
    "    concatTestReviews = []\n",
    "    sentiment = review[\"sentiment\"]\n",
    "    posProb = 0\n",
    "    negProb = 0\n",
    "    for sentence in review[\"content\"]:\n",
    "      for token, pos_tag in sentence:\n",
    "        concatTestReviews.append(token.lower()) \n",
    "        if (token.lower() in dictClassP):\n",
    "           posProb += math.log(dictClassP[token.lower()])\n",
    "        else:\n",
    "          posProb += math.log(k / (totalFreqClassP + (k * vocab)))\n",
    "        if (token.lower() in dictClassN):\n",
    "           negProb += math.log(dictClassN[token.lower()])\n",
    "        else:\n",
    "           negProb += math.log(k / (totalFreqClassN + (k * vocab)))\n",
    "    splitRev = []\n",
    "    for grams in range(2,n+1):\n",
    "      splitr = list(ngrams(concatTestReviews, grams))\n",
    "      splitRev.extend(splitr)\n",
    "    for rev in splitRev:\n",
    "      if (rev in dictClassP):\n",
    "           posProb += math.log(dictClassP[rev])\n",
    "      else:\n",
    "           posProb += math.log(k / (totalFreqClassP + (k * vocab)))\n",
    "      if (rev in dictClassN):\n",
    "           negProb += math.log(dictClassN[rev])\n",
    "      else:\n",
    "           negProb += math.log(k / (totalFreqClassN + (k * vocab)))\n",
    "    \n",
    "    probInClassP = logClassP + posProb\n",
    "    probInClassN = logClassN + negProb\n",
    "    \n",
    "    if (probInClassP >= probInClassN):\n",
    "      predicted = \"POS\"\n",
    "    else:\n",
    "      predicted = \"NEG\"\n",
    "    if (sentiment == predicted):\n",
    "      model_accuracy += 1\n",
    "      resultNB_ngram.append(\"+\")\n",
    "    else:\n",
    "      resultNB_ngram.append(\"-\")\n",
    "      \n",
    "  #print(model_accuracy)\n",
    "  return resultNB_ngram\n",
    "\n",
    "def cross_val(dataset, function_to_test_on, folds, n):\n",
    "  split = [[] for j in range(folds)]\n",
    "  for review in dataset:\n",
    "    cv = review[\"cv\"]\n",
    "    split[(cv % folds)].append(review)  \n",
    "\n",
    "  total_resultlist = []\n",
    "  accuracyList = []\n",
    "  k = 1\n",
    "  for spl in split:\n",
    "    b = [x for i,x in enumerate(split) if x!=spl] \n",
    "    resultlist = function_to_test_on(sum(b,[]),spl, n)\n",
    "    accuracyList.append(resultlist.count(\"+\")/200)\n",
    "    total_resultlist += resultlist\n",
    "    if k == 10:\n",
    "      print('Cross-Validation #',k,':', 100 * (resultlist.count(\"+\")/200),\"%\")\n",
    "    else:\n",
    "      print('Cross-Validation #',k,' :',100 * (resultlist.count(\"+\")/200),\"%\")\n",
    "    k += 1\n",
    "  return accuracyList, total_resultlist\n",
    "\n",
    "accuracy_NB_CV1, total_result_NB_CV1 = cross_val(reviews, NaiveBayesK_ngrams, 10, 2)\n",
    "print(\"Average Performance of unigrams+bigrams:\", \"{0:.1f}\".format(100*sum(accuracy_NB_CV1)/len(accuracy_NB_CV)),\"%\")\n",
    "print(\"\")\n",
    "print(\"Classification performance difference of the bigram compared to that of the unigram:\")\n",
    "sign_test(total_result_NB_CV1, total_result_NBK_CV)\n",
    "\n",
    "print(\"\")\n",
    "print(\"-----------------\")\n",
    "print(\"\")\n",
    "\n",
    "accuracy_NB_CV2, total_result_NB_CV2 = cross_val(reviews, NaiveBayesK_ngrams, 10, 3)\n",
    "print(\"Average Performance of unigrams+bigrams+trigrams:\", \"{0:.2f}\".format(100*sum(accuracy_NB_CV2)/len(accuracy_NB_CV)),'%')\n",
    "print(\"\")\n",
    "print(\"Classification performance difference of the trigram compared to that of the unigram:\")    \n",
    "sign_test(total_result_NB_CV2, total_result_NBK_CV)"
   ]
  },
  {
   "cell_type": "markdown",
   "metadata": {
    "colab_type": "text",
    "id": "dVrGGArkrWoL"
   },
   "source": [
    "\n",
    "#### Q3.10: How many features does the BoW model have to take into account now? (0.5pt)\n",
    "How does this number compare (e.g., linear, square, cubed, exponential) to the number of features at (Q3.8)? \n",
    "\n",
    "Use the held-out training set once again for this.\n"
   ]
  },
  {
   "cell_type": "code",
   "execution_count": 0,
   "metadata": {
    "colab": {
     "base_uri": "https://localhost:8080/",
     "height": 52
    },
    "colab_type": "code",
    "id": "_z8sAJeUrdtM",
    "outputId": "26af7231-b63a-4dd7-93a0-ae8688afca3d"
   },
   "outputs": [
    {
     "name": "stdout",
     "output_type": "stream",
     "text": [
      "Total features of unigram+bigram: 471032\n",
      "Total features of unigram+bigram+trigram: 1416686\n"
     ]
    }
   ],
   "source": [
    "trainData = [] \n",
    "testData = []\n",
    "for review in reviews:\n",
    "  cv = review[\"cv\"]\n",
    "  if (cv in range(0, 900)):\n",
    "    trainData.append(review)\n",
    "\n",
    "for review in reviews:\n",
    "  cv = review[\"cv\"]\n",
    "  if (cv in range(900, 1000)):\n",
    "    testData.append(review)\n",
    "      \n",
    "f1 = NaiveBayesK_ngrams(trainData, testData, 2, 1)\n",
    "print(\"Total features of unigram+bigram:\",f1)\n",
    "f2 = NaiveBayesK_ngrams(trainData, testData, 3, 1)\n",
    "print(\"Total features of unigram+bigram+trigram:\", f2)"
   ]
  },
  {
   "cell_type": "markdown",
   "metadata": {
    "colab_type": "text",
    "id": "CHWKDL3YV6vh"
   },
   "source": [
    "# Support Vector Machines (4pts)\n"
   ]
  },
  {
   "cell_type": "markdown",
   "metadata": {
    "colab_type": "text",
    "id": "hJSYhcVaoJGt"
   },
   "source": [
    "Though simple to understand, implement, and debug, one\n",
    "major problem with the Naive Bayes classifier is that its performance\n",
    "deteriorates (becomes skewed) when it is being used with features which\n",
    "are not independent (i.e., are correlated). Another popular classifier\n",
    "that doesn’t scale as well to big data, and is not as simple to debug as\n",
    "Naive Bayes, but that doesn’t assume feature independence is the Support\n",
    "Vector Machine (SVM) classifier.\n",
    "\n",
    "You can find more details about SVMs in Chapter 7 of Bishop: Pattern Recognition and Machine Learning.\n",
    "Other sources for learning SVM:\n",
    "* http://web.mit.edu/zoya/www/SVM.pdf\n",
    "* http://www.cs.columbia.edu/~kathy/cs4701/documents/jason_svm_tutorial.pdf\n",
    "* https://pythonprogramming.net/support-vector-machine-intro-machine-learning-tutorial/\n",
    "\n",
    "\n",
    "\n",
    "\n",
    "\n",
    "\n",
    "\n",
    "Use the scikit-learn implementation of \n",
    "[SVM.](http://scikit-learn.org/stable/modules/svm.html) with the default parameters.\n",
    "\n"
   ]
  },
  {
   "cell_type": "markdown",
   "metadata": {
    "colab_type": "text",
    "id": "0LnzNtQBV8gr"
   },
   "source": [
    "#### (Q4.1): Train SVM and compare to Naive Bayes (2pt)\n",
    "\n",
    "Train an SVM classifier (sklearn.svm.LinearSVC) using your features. Compare the\n",
    "classification performance of the SVM classifier to that of the Naive\n",
    "Bayes classifier from (Q3.4) and report the numbers.\n",
    "Do cross validation and concatenate the predictions from all folds to compute the significance.  Are the results significantly better?\n",
    "\n"
   ]
  },
  {
   "cell_type": "code",
   "execution_count": 0,
   "metadata": {
    "colab": {
     "base_uri": "https://localhost:8080/",
     "height": 277
    },
    "colab_type": "code",
    "id": "JBscui8Mvoz0",
    "outputId": "53bd60c9-9eab-4593-b0db-1f3487e409bc"
   },
   "outputs": [
    {
     "name": "stdout",
     "output_type": "stream",
     "text": [
      "Cross-Validation # 1  : 81.0 %\n",
      "Cross-Validation # 2  : 79.5 %\n",
      "Cross-Validation # 3  : 80.0 %\n",
      "Cross-Validation # 4  : 84.0 %\n",
      "Cross-Validation # 5  : 85.0 %\n",
      "Cross-Validation # 6  : 81.5 %\n",
      "Cross-Validation # 7  : 84.5 %\n",
      "Cross-Validation # 8  : 85.0 %\n",
      "Cross-Validation # 9  : 87.5 %\n",
      "Cross-Validation # 10 : 84.0 %\n",
      "Average performance of SVM: 83.2 %\n",
      "\n",
      "Classification performance of the SVM classifier compared to that of the Naive Bayes classifier:\n",
      "The difference is not significant\n"
     ]
    },
    {
     "data": {
      "text/plain": [
       "Decimal('0.5166977962573607869966679094')"
      ]
     },
     "execution_count": 21,
     "metadata": {
      "tags": []
     },
     "output_type": "execute_result"
    }
   ],
   "source": [
    "from sklearn.svm import LinearSVC\n",
    "from sklearn.feature_extraction.text import TfidfVectorizer\n",
    "from sklearn.feature_extraction import DictVectorizer\n",
    "import pandas as pd\n",
    "\n",
    "\n",
    "def svm_clf(traindata, testdata):\n",
    "  data = traindata + testdata\n",
    "  def get_bow(data):\n",
    "    bow = []\n",
    "    for k, review in enumerate(data):\n",
    "      bow.insert(k, {})\n",
    "      for sentence in review[\"content\"]:\n",
    "        for token, pos_tag in sentence:\n",
    "          token = token.lower()\n",
    "          if token in bow[k]:\n",
    "            bow[k][token] += 1\n",
    "          else:\n",
    "            bow[k][token] = 1\n",
    "    return bow\n",
    "\n",
    "  # Get vectorized features\n",
    "  X = get_bow(data)\n",
    "  vec = DictVectorizer()\n",
    "  X = vec.fit_transform(X)\n",
    "  X = pd.DataFrame(X.todense(), columns = vec.get_feature_names())\n",
    "  Y = []\n",
    "  for review in traindata:\n",
    "    Y.append(review[\"sentiment\"])\n",
    "  \n",
    "  \n",
    "  # Train the model\n",
    "  clf = LinearSVC()\n",
    "  clf.fit(X.iloc[:len(traindata),:], Y)\n",
    "\n",
    "  # Evaluate the model\n",
    "  y_pred = clf.predict(X.iloc[len(traindata):, :])\n",
    "  resultsvm = []\n",
    "  accuracy = 0\n",
    "  \n",
    "  for i, review in enumerate(testdata):\n",
    "    if review['sentiment'] == y_pred[i]:\n",
    "      resultsvm.append('+')\n",
    "    else:\n",
    "      resultsvm.append('-')\n",
    "      \n",
    "  return resultsvm\n",
    "\n",
    "accuracy_svm_CV, total_result_svm_CV = do_cross_val(reviews, svm_clf, 10)\n",
    "print('Average performance of SVM:', 100*np.mean(accuracy_svm_CV),'%')\n",
    "print('')\n",
    "print('Classification performance of the SVM classifier compared to that of the Naive Bayes classifier:')\n",
    "sign_test(total_result_NB_CV, total_result_svm_CV)"
   ]
  },
  {
   "cell_type": "markdown",
   "metadata": {
    "colab_type": "text",
    "id": "ifXVWcK0V9qY"
   },
   "source": [
    "### More linguistics\n",
    "\n",
    "Now add in part-of-speech features. You will find the\n",
    "movie review dataset has already been POS-tagged for you. Try to\n",
    "replicate what Pang et al. were doing:\n",
    "\n"
   ]
  },
  {
   "cell_type": "markdown",
   "metadata": {
    "colab_type": "text",
    "id": "xA3I82o4oWGu"
   },
   "source": [
    "####(Q4.2) Replace your features with word+POS features, and report performance with the SVM. Does this help? Do cross validation and concatenate the predictions from all folds to compute the significance. Are the results significant? Why?  (1pt)\n"
   ]
  },
  {
   "cell_type": "code",
   "execution_count": 0,
   "metadata": {
    "colab": {
     "base_uri": "https://localhost:8080/",
     "height": 208
    },
    "colab_type": "code",
    "id": "NOvjYe-t2Br6",
    "outputId": "f0a0f56c-9bab-4b98-f169-1c58837a213f"
   },
   "outputs": [
    {
     "name": "stdout",
     "output_type": "stream",
     "text": [
      "Cross-Validation # 1  : 82.0 %\n",
      "Cross-Validation # 2  : 79.5 %\n",
      "Cross-Validation # 3  : 82.5 %\n",
      "Cross-Validation # 4  : 84.0 %\n",
      "Cross-Validation # 5  : 84.0 %\n",
      "Cross-Validation # 6  : 84.5 %\n",
      "Cross-Validation # 7  : 85.5 %\n",
      "Cross-Validation # 8  : 85.5 %\n",
      "Cross-Validation # 9  : 86.5 %\n",
      "Cross-Validation # 10 : 84.0 %\n",
      "Average performance of SVM with POS: 83.8 %\n"
     ]
    }
   ],
   "source": [
    "from sklearn.svm import LinearSVC\n",
    "from sklearn.feature_extraction.text import TfidfVectorizer\n",
    "from sklearn.feature_extraction import DictVectorizer\n",
    "import pandas as pd\n",
    "\n",
    "\n",
    "def svm_pos_clf(traindata, testdata):\n",
    "  data = traindata + testdata\n",
    "  def get_bow(data):\n",
    "    bow = []\n",
    "    for k, review in enumerate(data):\n",
    "      bow.insert(k, {})\n",
    "      for sentence in review[\"content\"]:\n",
    "        for token, pos_tag in sentence:\n",
    "          token = token.lower() + pos_tag\n",
    "          if token in bow[k]:\n",
    "            bow[k][token] += 1\n",
    "          else:\n",
    "            bow[k][token] = 1\n",
    "    return bow\n",
    "\n",
    "  # Get vectorized features\n",
    "  X = get_bow(data)\n",
    "  vec = DictVectorizer()\n",
    "  X = vec.fit_transform(X)\n",
    "  X = pd.DataFrame(X.todense(), columns = vec.get_feature_names())\n",
    "  Y = []\n",
    "  for review in traindata:\n",
    "    Y.append(review[\"sentiment\"])\n",
    "  \n",
    "  \n",
    "  # Train the model\n",
    "  clf = LinearSVC()\n",
    "  clf.fit(X.iloc[:len(traindata),:], Y)\n",
    "\n",
    "  # Evaluate the model\n",
    "  y_pred = clf.predict(X.iloc[len(traindata):, :])\n",
    "  resultsvm = []\n",
    "  accuracy = 0\n",
    "  \n",
    "  for i, review in enumerate(testdata):\n",
    "    if review['sentiment'] == y_pred[i]:\n",
    "      resultsvm.append('+')\n",
    "    else:\n",
    "      resultsvm.append('-')\n",
    "      \n",
    "  return resultsvm\n",
    "\n",
    "accuracy_svm_pos_CV, total_result_svm_pos_CV =  do_cross_val(reviews, svm_pos_clf, 10)\n",
    "\n",
    "print('Average performance of SVM with POS:', \"{0:.1f}\".format(100*np.mean(accuracy_svm_pos_CV)),'%')"
   ]
  },
  {
   "cell_type": "markdown",
   "metadata": {
    "colab_type": "text",
    "id": "Su-3w87eMW0w"
   },
   "source": [
    "#### (Q4.3) Discard all closed-class words from your data (keep only nouns (N*), verbs (V*), adjectives (J*) and adverbs (RB*)), and report performance. Does this help? Do cross validation and concatenate the predictions from all folds to compute the significance. Are the results significantly better than when we don't discard the closed-class words? Why? (1pt)"
   ]
  },
  {
   "cell_type": "code",
   "execution_count": 0,
   "metadata": {
    "colab": {
     "base_uri": "https://localhost:8080/",
     "height": 277
    },
    "colab_type": "code",
    "id": "CCUPlPozCYUX",
    "outputId": "c94448e9-79d5-4c47-bd07-c45013070c37"
   },
   "outputs": [
    {
     "name": "stdout",
     "output_type": "stream",
     "text": [
      "Cross-Validation # 1  : 80.5 %\n",
      "Cross-Validation # 2  : 81.5 %\n",
      "Cross-Validation # 3  : 82.5 %\n",
      "Cross-Validation # 4  : 86.5 %\n",
      "Cross-Validation # 5  : 87.0 %\n",
      "Cross-Validation # 6  : 80.5 %\n",
      "Cross-Validation # 7  : 86.5 %\n",
      "Cross-Validation # 8  : 86.5 %\n",
      "Cross-Validation # 9  : 85.0 %\n",
      "Cross-Validation # 10 : 81.0 %\n",
      "Average performance of SVM with Open Classes: 0.8375 %\n",
      "\n",
      "Classification performance of the SVM classifier compared to that of the SVM with Open Classes:\n",
      "The difference is not significant\n"
     ]
    },
    {
     "data": {
      "text/plain": [
       "Decimal('1.000000000000000000000000001')"
      ]
     },
     "execution_count": 23,
     "metadata": {
      "tags": []
     },
     "output_type": "execute_result"
    }
   ],
   "source": [
    "from sklearn.svm import LinearSVC\n",
    "from sklearn.feature_extraction.text import TfidfVectorizer\n",
    "from sklearn.feature_extraction import DictVectorizer\n",
    "import pandas as pd\n",
    "\n",
    "\n",
    "def svm_closed_pos_clf(traindata, testdata):\n",
    "  \n",
    "  data = traindata + testdata\n",
    "  open_classes = ['NNS', 'NN','VB', 'VBD', 'VBG', 'VBN', 'VBZ', 'VBP','JJ','JJR','JJS', 'RB','RBR','RBS']\n",
    "  def get_bow(data):\n",
    "    bow = []\n",
    "    for k, review in enumerate(data):\n",
    "      bow.insert(k, {})\n",
    "      for sentence in review[\"content\"]:\n",
    "        for token, pos_tag in sentence:\n",
    "          if pos_tag in open_classes:\n",
    "            token = token.lower() + pos_tag\n",
    "            if token in bow[k]:\n",
    "              bow[k][token] += 1\n",
    "            else:\n",
    "              bow[k][token] = 1\n",
    "          else:\n",
    "            continue\n",
    "    return bow\n",
    "\n",
    "  \n",
    "  # Get vectorized features\n",
    "  X = get_bow(data)\n",
    "  vec = DictVectorizer()\n",
    "  X = vec.fit_transform(X)\n",
    "  X = pd.DataFrame(X.todense(), columns = vec.get_feature_names())\n",
    "  Y = []\n",
    "  for review in traindata:\n",
    "    Y.append(review[\"sentiment\"])\n",
    "  \n",
    "  \n",
    "  # Train the model\n",
    "  clf = LinearSVC()\n",
    "  clf.fit(X.iloc[:len(traindata),:], Y)\n",
    "\n",
    "  # Evaluate the model\n",
    "  y_pred = clf.predict(X.iloc[len(traindata):, :])\n",
    "  resultsvm = []\n",
    "  accuracy = 0\n",
    "  \n",
    "  for i, review in enumerate(testdata):\n",
    "    if review['sentiment'] == y_pred[i]:\n",
    "      resultsvm.append('+')\n",
    "    else:\n",
    "      resultsvm.append('-')\n",
    "      \n",
    "  return resultsvm\n",
    "\n",
    "accuracy_svm_closed_pos_CV, total_result_svm_closed_pos_CV =  do_cross_val(reviews, svm_closed_pos_clf, 10)\n",
    "\n",
    "print('Average performance of SVM with Open Classes:', \"{0:.4f}\".format(np.mean(100*accuracy_svm_closed_pos_CV)),'%')\n",
    "\n",
    "print('')\n",
    "print('Classification performance of the SVM classifier compared to that of the SVM with Open Classes:')\n",
    "sign_test(total_result_svm_pos_CV, total_result_svm_closed_pos_CV)"
   ]
  },
  {
   "cell_type": "markdown",
   "metadata": {
    "colab_type": "text",
    "id": "ENTNt1d9w0Kh"
   },
   "source": [
    "Closed class words only provide structure to the open class words and do not carry any meaning themselves. Hence discarding or keeping them does not have any significant effect on the performance. "
   ]
  },
  {
   "cell_type": "markdown",
   "metadata": {
    "colab_type": "text",
    "id": "nfwqOciAl2No"
   },
   "source": [
    "# (Q8) Discussion (max. 500 words). (5pts)\n",
    "\n",
    "> Based on your experiments, what are the effective features and techniques in sentiment analysis? What information do different features encode?\n",
    "Why is this important? What are the limitations of these features and techniques?\n",
    " \n"
   ]
  },
  {
   "cell_type": "markdown",
   "metadata": {
    "colab_type": "text",
    "id": "HBbYuucXFXs6"
   },
   "source": [
    "Our task was to create a model that classifies review sentiment into positive or negative. \n",
    "\n",
    "Our first approach was to look up sentiment of every word of a review in a Sentiment Lexicon and evaluate the overall sentiment. This Symbolic approach considers only specific keywords in the text that we are interested in. But the Lexicon has a limited vocabulary and as a result, we could lose valuable information when discarding unknown words. Moreover, we lose the order and semantic of words (double negative phrases like “It was not bad” will not be evaluated correctly since sentiment of each word is assessed independently) and disregard the fact that some words have stronger impact than others. We try to tackle the latter by considering the magnitude information of the words in the lexicon, but the results are not significantly better maybe due to the chosen word weights.<br>\n",
    "\n",
    "In the second approach, we use Naive Bayes classifier (NB). We transform the text data into Bag-of-Words(BoW) representation and the words themselves are used as features.  We train the the classifier using tagged, tokenized reviews and then use it to predict sentiment of new reviews. This classifier can be extremely biased if the training data is unbalanced. For example if 90% of the training data is positive reviews, new predictions will be skewed towards positive sentiment. \n",
    "The performance is also affected if there are words in the new reviews that are not included in the training vocabulary. To overcome this problem, we use Laplace smoothing which takes into account previously unseen words while making predictions. This improves the classifier performance notably.\n",
    "The BoW representation does not use word order and grammatical structure information making this approach less effective. <br>\n",
    "\n",
    "One of the problems with previous approaches is that the tokens are not normalized. To fix this, we use the Stemming approach, which reduces inflected words to the root of the word. However, this method fails on irregular forms (feet -> feet and not foot) and may produce non-words. Other than a decrease in feature size, there is no significant improvement in the performance using this technique.\n",
    "\n",
    "To preserve some word order, we use ngrams technique, which uses sequence of n words as features providing some context information. Using trigrams and bigrams in addition to unigrams as features results in a huge increase in the features size without any drastic performance improvement. Probably the context information is still too less.<br>\n",
    "\n",
    "Another classifier that doesn’t assume feature independence is the Support Vector Machine (SVM) classifier. The words and their frequency transformed to vectors are used as features and SVM finds the best hyperplane separating positive and negative reviews. We use this separation to make predictions. The results are not significantly better even after using syntax information of the text. Our tokens are labeled with a PoS text and can be classified into two classes - Open and Closed class. The latter includes words that provide structure for open-class PoS but do not carry any meaning. Therefore we remove these words reducing the number of features and maintain the same performance.<br>\n",
    "\n",
    "To conclude, machine learnig approaches result in better classification. We believe combining mutiple techniques may improve the performace further.\n",
    "\n",
    "\n",
    "\n",
    "\n"
   ]
  },
  {
   "cell_type": "markdown",
   "metadata": {
    "colab_type": "text",
    "id": "iwaKwfWQhRk_"
   },
   "source": [
    "\n",
    "# Submission \n"
   ]
  },
  {
   "cell_type": "code",
   "execution_count": 0,
   "metadata": {
    "colab": {},
    "colab_type": "code",
    "id": "aOUeaET5ijk-"
   },
   "outputs": [],
   "source": [
    "# Write your names and student numbers here:\n",
    "# Ioannis Gatopoulos #12141666\n",
    "# Manasa J Bhat #12184306"
   ]
  },
  {
   "cell_type": "markdown",
   "metadata": {
    "colab_type": "text",
    "id": "3A9K-H6Tii3X"
   },
   "source": [
    "**That's it!**\n",
    "\n",
    "- Check if you answered all questions fully and correctly. \n",
    "- Download your completed notebook using `File -> Download .ipynb` \n",
    "- Also save your notebook as a Github Gist. Get it by choosing `File -> Save as Github Gist`.  Make sure that the gist has a secret link (not public).\n",
    "- Check if your answers are all included in the file you submit (e.g. check the Github Gist URL)\n",
    "- Submit your .ipynb file and link to the Github Gist via *Canvas*. One submission per group. "
   ]
  }
 ],
 "metadata": {
  "colab": {
   "collapsed_sections": [],
   "name": "NLP1 Practical I",
   "provenance": [],
   "toc_visible": true,
   "version": "0.3.2"
  },
  "kernelspec": {
   "display_name": "Python 3",
   "language": "python",
   "name": "python3"
  },
  "language_info": {
   "codemirror_mode": {
    "name": "ipython",
    "version": 3
   },
   "file_extension": ".py",
   "mimetype": "text/x-python",
   "name": "python",
   "nbconvert_exporter": "python",
   "pygments_lexer": "ipython3",
   "version": "3.6.8"
  }
 },
 "nbformat": 4,
 "nbformat_minor": 1
}
